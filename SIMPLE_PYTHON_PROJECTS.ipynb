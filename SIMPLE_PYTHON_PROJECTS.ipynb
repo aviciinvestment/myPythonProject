{
 "cells": [
  {
   "cell_type": "markdown",
   "id": "a3259241-eee1-4bd1-a354-89b1d16851e0",
   "metadata": {},
   "source": [
    "A simple calculator woking with two values"
   ]
  },
  {
   "cell_type": "code",
   "execution_count": 1,
   "id": "bbe22f2d-c4e0-4c08-a292-e351e29ba11f",
   "metadata": {},
   "outputs": [
    {
     "name": "stdout",
     "output_type": "stream",
     "text": [
      "perform a simple maths calculation\n",
      "input x\n"
     ]
    },
    {
     "name": "stdin",
     "output_type": "stream",
     "text": [
      "x: 4\n"
     ]
    },
    {
     "name": "stdout",
     "output_type": "stream",
     "text": [
      "x is =  4\n"
     ]
    },
    {
     "name": "stdin",
     "output_type": "stream",
     "text": [
      "y: 4\n"
     ]
    },
    {
     "name": "stdout",
     "output_type": "stream",
     "text": [
      "y is = 4\n",
      "chose between / * + -\n"
     ]
    },
    {
     "name": "stdin",
     "output_type": "stream",
     "text": [
      "operators /\n"
     ]
    },
    {
     "name": "stdout",
     "output_type": "stream",
     "text": [
      "x + y is =  1.0\n"
     ]
    }
   ],
   "source": [
    "#A simple calculator woking with two values\n",
    "print(\"perform a simple maths calculation\")\n",
    "print(\"input x\")\n",
    "x = int(input(\"x:\"))\n",
    "print(f\"x is =  {x}\")\n",
    "y = int(input(\"y:\"))\n",
    "print(f\"y is = {y}\")\n",
    "print(\"chose between / * + -\")\n",
    "z = input(\"operators\")\n",
    "if z == \"/\":\n",
    "    print(f\"x + y is =  {x/y}\")\n",
    "elif z == \"*\":\n",
    "    print(f\"x + y is =  {x*y}\")\n",
    "elif z == \"-\":\n",
    "    print(f\"x + y is =  {x-y}\")\n",
    "elif z == \"+\":\n",
    "    print(f\"x + y is =  {x+y}\")\n",
    "else:\n",
    "    print(\"operator not valid\")\n",
    "    \n",
    "\n",
    "\n"
   ]
  },
  {
   "cell_type": "markdown",
   "id": "49abfd6a-d6f7-4102-bdb9-48d160677df5",
   "metadata": {},
   "source": [
    "A TO DO LIST"
   ]
  },
  {
   "cell_type": "code",
   "execution_count": 5,
   "id": "79421a55-201a-4b50-ba6a-03a1e8f67f65",
   "metadata": {},
   "outputs": [
    {
     "name": "stdin",
     "output_type": "stream",
     "text": [
      "what are you doing today(5 tax max)?: 8\n"
     ]
    },
    {
     "name": "stdout",
     "output_type": "stream",
     "text": [
      "here are your tasks today:['8']\n"
     ]
    },
    {
     "name": "stdin",
     "output_type": "stream",
     "text": [
      "are you up to more tasks:(Y/N) N\n"
     ]
    },
    {
     "name": "stdout",
     "output_type": "stream",
     "text": [
      "gaptha! have a nice day\n",
      "['8']\n"
     ]
    },
    {
     "name": "stdin",
     "output_type": "stream",
     "text": [
      "do you want to change or update any task(Y/N) N\n"
     ]
    },
    {
     "name": "stdout",
     "output_type": "stream",
     "text": [
      "continue with your task['8']\n",
      "make sure you finish all task(good luck)\n"
     ]
    },
    {
     "name": "stdin",
     "output_type": "stream",
     "text": [
      "tick checked task: 0(task accomplished) 0\n"
     ]
    },
    {
     "name": "stdout",
     "output_type": "stream",
     "text": [
      "checked(accomplished) task['8']\n",
      "updated task[]\n",
      "hurray\n"
     ]
    }
   ],
   "source": [
    "#a simple task manager\n",
    "#add tasks\n",
    "List = []\n",
    "X = input(\"what are you doing today(5 tax max)?:\")\n",
    "List.append(X)\n",
    "print(f\"here are your tasks today:{List}\")\n",
    "Y = input(\"are you up to more tasks:(Y/N)\")\n",
    "\n",
    "if Y != (\"Y\"):\n",
    "    if Y != (\"N\"):\n",
    "        print(\"invalid input\")\n",
    "    else:\n",
    "        print(\"gaptha! have a nice day\")\n",
    "else:\n",
    "    if Y == \"Y\":\n",
    "        Z = input(\"nice! do well to add more task\")\n",
    "        List.append(Z)\n",
    "        print(f\"updated task{List}\")\n",
    "        Z1 = input(\"more or 0 to exit?\")\n",
    "        if Z1 == \"0\":\n",
    "            print(f\"updated task{List}\")\n",
    "        else:\n",
    "            List.append(Z1)\n",
    "            print(f\"updated task{List}\")\n",
    "            Z2 = input(\"more or 0 to exit?\")\n",
    "            if Z2 == \"0\":\n",
    "                \n",
    "                print(f\"updated task{List}\")\n",
    "            else:\n",
    "                List.append(Z2)\n",
    "                print(f\"updated task{List}\")\n",
    "                Z3 = input(\"more or 0 to exit?\")\n",
    "                if Z3 == \"0\":\n",
    "                    \n",
    "                    print(f\"updated task{List} 5 task completed\")\n",
    "                else:\n",
    "                    List.append(Z3)\n",
    "                    print(f\"updated task{List}\")\n",
    "                    if len(List) == 5:\n",
    "                        print(\"reached max already\")\n",
    "print(List)\n",
    "#update tasks\n",
    "u_t = input(\"do you want to change or update any task(Y/N)\")\n",
    "if u_t == \"Y\":\n",
    "    c_i = int(input(\"choose index to be changed between 0 and 4\"))\n",
    "    c_t = input(\"what did you intend changing it to\")\n",
    "    List.insert(c_i,c_t)\n",
    "    List.pop(c_i + 1)\n",
    "    print(f\"updated task{List}\")\n",
    "    mo = input(\"do you wish to update more?(Y/N)\")\n",
    "    if mo == \"Y\":\n",
    "        c_i1 = int(input(\"choose index to be changed between 0 and 4\"))\n",
    "        c_t1 = input(\"what did you intend changing it to\")\n",
    "        List.insert(c_i1,c_t1)\n",
    "        List.pop(c_i1 + 1)\n",
    "        print(f\"updated task{List}\")\n",
    "        mo1 = input(\"do you wish to update more?(Y/N)\")\n",
    "        if mo1 == \"Y\":\n",
    "            c_i2 = int(input(\"choose index to be changed between 0 and 4\"))\n",
    "            c_t2 = input(\"what did you intend changing it to\")\n",
    "            List.insert(c_i2,c_t2)\n",
    "            List.pop(c_i2 + 1)\n",
    "            print(f\"updated task{List}\")\n",
    "            mo2 = input(\"do you wish to update more?(Y/N)\")\n",
    "            if mo2 == \"Y\":\n",
    "                c_i3 = int(input(\"choose index to be changed between 0 and 4\"))\n",
    "                c_t3 = input(\"what did you intend changing it to\")\n",
    "                List.insert(c_i3,c_t3)\n",
    "                List.pop(c_i3 + 1)\n",
    "                print(f\"updated task{List}\")\n",
    "            else:\n",
    "                print(f\"continue with your task{List}\")\n",
    "        else:\n",
    "            print(f\"continue with your task{List}\")\n",
    "            \n",
    "    else:\n",
    "        print(f\"continue with your task{List}\")\n",
    "\n",
    "        \n",
    "        \n",
    "else:\n",
    "    print(f\"continue with your task{List}\")\n",
    "\n",
    "print(\"make sure you finish all task(good luck)\")\n",
    "\n",
    "#checkmate tasks\n",
    "checked = []\n",
    "if len(List) == 5:\n",
    "    y = int(input(\"tick checked task: from 0 to 4(task accomplished)\"))\n",
    "    c_1 = List.pop(y)\n",
    "    checked.append(c_1)\n",
    "    print(f\"checked(accomplished) task{checked}\")\n",
    "    print(f\"updated task{List}\")\n",
    "elif len(List) == 4:\n",
    "    y = int(input(\"tick checked task: from 0 to 3(task accomplished)\"))\n",
    "    c_2 = List.pop(y)\n",
    "    checked.append(c_1)\n",
    "    print(f\"checked(accomplished) task{checked}\")\n",
    "    print(f\"updated task{List}\")\n",
    "elif len(List) == 3:\n",
    "    y = int(input(\"tick checked task: from 0 to 2(task accomplished)\"))\n",
    "    c_1 = List.pop(y)\n",
    "    checked.append(c_1)\n",
    "    print(f\"checked(accomplished) task{checked}\")\n",
    "    print(f\"updated task{List}\")\n",
    "elif len(List) == 2:\n",
    "    y = int(input(\"tick checked task: from 0 to 1(task accomplished)\"))\n",
    "    c_1 = List.pop(y)\n",
    "    checked.append(c_1)\n",
    "    print(f\"checked(accomplished) task{checked}\")\n",
    "    print(f\"updated task{List}\")\n",
    "elif len(List) == 1:\n",
    "    y = int(input(\"tick checked task: 0(task accomplished)\"))\n",
    "    c_1 = List.pop(y)\n",
    "    checked.append(c_1)\n",
    "    print(f\"checked(accomplished) task{checked}\")\n",
    "    print(f\"updated task{List}\")\n",
    "else:\n",
    "    print(\"kudos to you finally accomplished tasks\")\n",
    "\n",
    "print(\"hurray\")\n",
    "\n",
    "\n",
    "                        "
   ]
  },
  {
   "cell_type": "markdown",
   "id": "569b8698-ce5c-4831-8a10-292e842e460d",
   "metadata": {},
   "source": [
    "WEATHER CONDITION "
   ]
  },
  {
   "cell_type": "code",
   "execution_count": 1,
   "id": "bae3f390-c91e-4bfa-a112-2be930582bce",
   "metadata": {},
   "outputs": [
    {
     "name": "stdout",
     "output_type": "stream",
     "text": [
      "today being:  Mon Nov 11 10:02:59 2024\n",
      "avitek brings you its wheather conditions through out the day to ease your todo!!!\n",
      "AVITEK GIVES YOU A DISCREET WEATHER CONDITION FOR TODAY: stay safe ---- 26-30°C: (still morning!)cool and partly sunny\n",
      "season: its--------------spring-----------------------moderate condition----------------------\n",
      "stay cool all day\n"
     ]
    }
   ],
   "source": [
    "#A SIMPLE PYTHON CODE DISPLAYING WEATHER CONDITION\n",
    "#DAILY WEATHER CONDITION\n",
    "import datetime \n",
    "import numpy as np\n",
    "import html\n",
    "\n",
    "x = datetime.datetime.now()    \n",
    "'''print(x.strftime(\"%A\"))\n",
    "print(F\"day {x.strftime(\"%j\")}\" )\n",
    "print(F\"{x.strftime(\"%B\")} / {x.strftime(\"%m\")}\" )\n",
    "print(F\"week {x.strftime(\"%W\")}\" )\n",
    "print(F\"{x.strftime(\"%Y\")} {x.strftime(\"%H\")}:{x.strftime(\"%M\")}:{x.strftime(\"%S\")} {x.strftime(\"%p\")}\" )'''\n",
    "\n",
    "\n",
    "print(f\"today being:  {x.strftime(\"%c\")}\")\n",
    "print(\"avitek brings you its wheather conditions through out the day to ease your todo!!!\")\n",
    "\n",
    "# a function declaring wheather conditions\n",
    "def weather_condition_monthly():\n",
    "    for i in np.arange(0,12):\n",
    "        e = str(i)\n",
    "        if x.strftime(\"%m\") == e:\n",
    "            #weather condition of the years first quater \n",
    "            for s1 in np.arange(0,3):\n",
    "                sum1 = str(s1)\n",
    "                if e == sum1:\n",
    "                    print(f\"season: its--------------summer----------------------rainy-----------------------\")\n",
    "            #weather condition of the years second quater\n",
    "            for w2 in np.arange(3,6):\n",
    "                win2 = str(w2)\n",
    "                if e == win2:\n",
    "                    print(f\"season: its--------------winter-------------------------sunny--------------------\")\n",
    "            #weather condition for the years third qquater\n",
    "            for a3 in np.arange(6,9):\n",
    "                aut3 = str(a3)\n",
    "                if e == aut3:\n",
    "                    print(f\"season: its--------------autumn-----------------------windy----------------------\")\n",
    "            #weather condition for the years last quater\n",
    "            for sp4 in np.arange(9,12):\n",
    "                spr4 = str(sp4)\n",
    "                if e == spr4:\n",
    "                    print(f\"season: its--------------spring-----------------------moderate condition----------------------\")\n",
    "\n",
    "\n",
    "        \n",
    "def weather_condition_daily():\n",
    "    for i in np.arange(0,24):\n",
    "        e  = str(i)\n",
    "        if x.strftime(\"%H\") == e:\n",
    "            #morning condition\n",
    "            for m1 in np.arange(0,8):\n",
    "                morn1 = str(m1)\n",
    "                if e == morn1:\n",
    "                    print(f\"AVITEK GIVES YOU A DISCREET WEATHER CONDITION FOR TODAY: stay safe ---- 25{u'\\u00B0'}C: (good morning!)cool\")\n",
    "            for m2 in np.arange(8,12):\n",
    "                morn2 = str(m2)\n",
    "                if e == morn2:\n",
    "                    print(f\"AVITEK GIVES YOU A DISCREET WEATHER CONDITION FOR TODAY: stay safe ---- 26-30{u'\\u00B0'}C: (still morning!)cool and partly sunny\")\n",
    "            #afternoon condition\n",
    "            for A1 in np.arange(12,16):\n",
    "                AFTER1 = str(A1)\n",
    "                if e == AFTER1:\n",
    "                    print(f\"AVITEK GIVES YOU A DISCREET WEATHER CONDITION FOR TODAY: stay safe ---- 33{u'\\u00B0'}C: (good Afternoon!)sunny\")\n",
    "            #evening condition\n",
    "            for e2 in np.arange(16,21):\n",
    "                even = str(e2)\n",
    "                if e == even:\n",
    "                    print(f\"AVITEK GIVES YOU A DISCREET WEATHER CONDITION FOR TODAY: stay safe ---- 33-30{u'\\u00B0'}C: (good evening!)cool and partly sunny\")\n",
    "            #night condition\n",
    "            for n1 in np.arange(21,25):\n",
    "                night1 = str(n1)\n",
    "                if e == night1:\n",
    "                    print(f\"AVITEK GIVES YOU A DISCREET WEATHER CONDITION FOR TODAY: stay safe ---- 25{u'\\u00B0'}C: (good night!)cool\")\n",
    "\n",
    "\n",
    "\n",
    "\n",
    "weather_condition_daily()\n",
    "weather_condition_monthly()\n",
    "print(\"stay cool all day\")"
   ]
  },
  {
   "cell_type": "markdown",
   "id": "fbf2dc64-7967-4b77-b511-7fa462954942",
   "metadata": {},
   "source": [
    "GAME"
   ]
  },
  {
   "cell_type": "code",
   "execution_count": 73,
   "id": "df3f76af-a312-4dbb-afda-d3c157e30ff3",
   "metadata": {},
   "outputs": [
    {
     "name": "stdout",
     "output_type": "stream",
     "text": [
      "choose your suitable prediction start point and limit\n"
     ]
    },
    {
     "name": "stdin",
     "output_type": "stream",
     "text": [
      "start point 0\n",
      "choose limit 1\n",
      "guess my number from 0 to 1 1\n"
     ]
    },
    {
     "name": "stdout",
     "output_type": "stream",
     "text": [
      "too large\n"
     ]
    },
    {
     "name": "stdin",
     "output_type": "stream",
     "text": [
      "guess my number from 0 to 1 1\n"
     ]
    },
    {
     "name": "stdout",
     "output_type": "stream",
     "text": [
      "too large\n"
     ]
    },
    {
     "name": "stdin",
     "output_type": "stream",
     "text": [
      "guess my number from 0 to 1 1\n"
     ]
    },
    {
     "name": "stdout",
     "output_type": "stream",
     "text": [
      "too large\n"
     ]
    },
    {
     "name": "stdin",
     "output_type": "stream",
     "text": [
      "guess my number from 0 to 1 1\n"
     ]
    },
    {
     "name": "stdout",
     "output_type": "stream",
     "text": [
      "too large\n"
     ]
    },
    {
     "name": "stdin",
     "output_type": "stream",
     "text": [
      "guess my number from 0 to 1 1\n"
     ]
    },
    {
     "name": "stdout",
     "output_type": "stream",
     "text": [
      "too large\n"
     ]
    },
    {
     "name": "stdin",
     "output_type": "stream",
     "text": [
      "guess my number from 0 to 1 1\n"
     ]
    },
    {
     "name": "stdout",
     "output_type": "stream",
     "text": [
      "too large\n"
     ]
    },
    {
     "name": "stdin",
     "output_type": "stream",
     "text": [
      "guess my number from 0 to 1 0\n"
     ]
    },
    {
     "name": "stdout",
     "output_type": "stream",
     "text": [
      "YOU ARE A GENIUS \n",
      "your guessing accuracy is__\n",
      "        40%         \n"
     ]
    }
   ],
   "source": [
    "#a simple game using numpy\n",
    "#guess the number\n",
    "import numpy as np\n",
    "print(\"choose your suitable prediction start point and limit\")\n",
    "\n",
    "x = int(input(\"start point\"))\n",
    "y = int(input(\"choose limit\"))\n",
    "\n",
    "\n",
    "if x >= y:\n",
    "    print(\"your start point shouldn't be greater or equal to your limit\")\n",
    "\n",
    "else:\n",
    "    global guess\n",
    "    guess = np.random.randint(x,y)\n",
    "\n",
    "\n",
    "trials = 0\n",
    "def guess_function():\n",
    "    global x\n",
    "    global y\n",
    "    global trials\n",
    "    user_answer = int(input(f\"guess my number from {x} to {y}\"))\n",
    "    global guess\n",
    "    if user_answer > guess:\n",
    "        print(\"too large\")\n",
    "        trials += 1\n",
    "        guess_function()\n",
    "    elif user_answer < guess:\n",
    "        print(\"too small\")\n",
    "        trials += 1\n",
    "        guess_function()        \n",
    "    else:\n",
    "        print(\"YOU ARE A GENIUS \\nyour guessing accuracy is__\")\n",
    "        if trials == 0:\n",
    "            print(\"100%\".center(20))\n",
    "        elif trials == 1:\n",
    "            print(\"90%\".center(20))\n",
    "        elif trials == 2:\n",
    "            print(\"80%\".center(20))\n",
    "        elif trials == 3:\n",
    "            print(\"70%\".center(20))\n",
    "        elif trials == 4:\n",
    "            print(\"60%\".center(20))\n",
    "        elif trials == 5:\n",
    "            print(\"50%\".center(20))\n",
    "        elif trials == 6:\n",
    "            print(\"40%\".center(20))\n",
    "        elif trials == 7:\n",
    "            print(\"30%\".center(20))\n",
    "        elif trials == 8:\n",
    "            print(\"20%\".center(20))\n",
    "        elif trials == 9:\n",
    "            print(\"10%\".center(20))\n",
    "        else:\n",
    "            print(\"0%\".center(20))\n",
    "        \n",
    "\n",
    "guess_function()"
   ]
  },
  {
   "cell_type": "code",
   "execution_count": 27,
   "id": "7ff77632-1c76-48e6-b568-ab9510a2c92c",
   "metadata": {},
   "outputs": [
    {
     "name": "stdin",
     "output_type": "stream",
     "text": [
      "Choose game mode: easy/medium/hard insert 1,2,3 respectively 3\n",
      "guess between 0 and 4 4\n"
     ]
    },
    {
     "name": "stdout",
     "output_type": "stream",
     "text": [
      "score: 0 \n"
     ]
    },
    {
     "name": "stdin",
     "output_type": "stream",
     "text": [
      "are you playing again(Y/N) Y\n",
      "guess between 0 and 4 0\n"
     ]
    },
    {
     "name": "stdout",
     "output_type": "stream",
     "text": [
      "score: 0 \n"
     ]
    },
    {
     "name": "stdin",
     "output_type": "stream",
     "text": [
      "are you playing again(Y/N) Y\n",
      "guess between 0 and 4 3\n"
     ]
    },
    {
     "name": "stdout",
     "output_type": "stream",
     "text": [
      "1 good guess keep going\n"
     ]
    },
    {
     "name": "stdin",
     "output_type": "stream",
     "text": [
      "guess between 0 and 4 3\n"
     ]
    },
    {
     "name": "stdout",
     "output_type": "stream",
     "text": [
      "score: 1 \n"
     ]
    },
    {
     "name": "stdin",
     "output_type": "stream",
     "text": [
      "are you playing again(Y/N) N\n"
     ]
    },
    {
     "name": "stdout",
     "output_type": "stream",
     "text": [
      "nice game! hoping to see you later\n"
     ]
    }
   ],
   "source": [
    "#SIMPLE GUESSING GAME\n",
    "import numpy as np\n",
    "u = 0\n",
    "def akunna():\n",
    "    a = np.random.randint(0,2)\n",
    "    k = int(input(\"guess between 0 and 1\"))\n",
    "    if a == k:\n",
    "        global u\n",
    "        u = u + 1\n",
    "        print(f\"{u} good guess keep going\")\n",
    "        akunna()\n",
    "    else:\n",
    "        print(f\"score: {u} \")\n",
    "        n = input(\"are you playing again(Y/N)\")\n",
    "        if n == \"Y\":\n",
    "            u = 0\n",
    "            akunna()\n",
    "        else:\n",
    "            print(\"nice game! hoping to see you later\")\n",
    "def akunn():\n",
    "    a = np.random.randint(0,3)\n",
    "    k = int(input(\"guess between 0 and 2\"))\n",
    "    if a == k:\n",
    "        global u\n",
    "        u = u + 1\n",
    "        print(f\"{u} good guess keep going\")\n",
    "        akunn()\n",
    "    else:\n",
    "        print(f\"score: {u} \")\n",
    "        n = input(\"are you playing again(Y/N)\")\n",
    "        if n == \"Y\":\n",
    "            u = 0\n",
    "            akunn()\n",
    "        else:\n",
    "            print(\"nice game! hoping to see you later\")\n",
    "def akun():\n",
    "    a = np.random.randint(0,5)\n",
    "    k = int(input(\"guess between 0 and 4\"))\n",
    "    if a == k:\n",
    "        global u\n",
    "        u = u + 1\n",
    "        print(f\"{u} good guess keep going\")\n",
    "        akun()\n",
    "    else:\n",
    "        print(f\"score: {u} \")\n",
    "        n = input(\"are you playing again(Y/N)\")\n",
    "        if n == \"Y\":\n",
    "            u = 0\n",
    "            akun()\n",
    "        else:\n",
    "            print(\"nice game! hoping to see you later\")\n",
    "\n",
    "\n",
    "\n",
    "resp = input(\"Choose game mode: easy/medium/hard insert 1,2,3 respectively\")\n",
    "\n",
    "if resp == \"1\":\n",
    "    akunna()\n",
    "elif resp == \"2\":\n",
    "    akunn()\n",
    "else:\n",
    "    if resp != \"3\":\n",
    "        print(\"invalid response\")\n",
    "    else:\n",
    "        akun()\n",
    "    \n",
    "        \n",
    "    \n"
   ]
  },
  {
   "cell_type": "code",
   "execution_count": 65,
   "id": "7c2754d5-fb11-43d6-a558-e51423dae67b",
   "metadata": {},
   "outputs": [
    {
     "name": "stdout",
     "output_type": "stream",
     "text": [
      "choose a number in your mind and i will predict\n"
     ]
    },
    {
     "name": "stdin",
     "output_type": "stream",
     "text": [
      "set your initial 5\n",
      "set your final 90\n",
      "have you choosen(Y/N Y\n"
     ]
    },
    {
     "name": "stdout",
     "output_type": "stream",
     "text": [
      "40\n"
     ]
    },
    {
     "name": "stdin",
     "output_type": "stream",
     "text": [
      "is my prediction right(Y/N N\n",
      "is it too high or too low (1/0) 1\n"
     ]
    },
    {
     "name": "stdout",
     "output_type": "stream",
     "text": [
      "19\n"
     ]
    },
    {
     "name": "stdin",
     "output_type": "stream",
     "text": [
      "is my prediction right(Y/N N\n",
      "is it too high or too low (1/0) 0\n"
     ]
    },
    {
     "name": "stdout",
     "output_type": "stream",
     "text": [
      "23\n"
     ]
    },
    {
     "name": "stdin",
     "output_type": "stream",
     "text": [
      "is my prediction right(Y/N N\n",
      "is it too high or too low (1/0) 0\n"
     ]
    },
    {
     "name": "stdout",
     "output_type": "stream",
     "text": [
      "30\n"
     ]
    },
    {
     "name": "stdin",
     "output_type": "stream",
     "text": [
      "is my prediction right(Y/N N\n",
      "is it too high or too low (1/0) 1\n"
     ]
    },
    {
     "name": "stdout",
     "output_type": "stream",
     "text": [
      "28\n"
     ]
    },
    {
     "name": "stdin",
     "output_type": "stream",
     "text": [
      "is my prediction right(Y/N Y\n"
     ]
    },
    {
     "name": "stdout",
     "output_type": "stream",
     "text": [
      "kudos to me\n"
     ]
    }
   ],
   "source": [
    "#tricking the system guessing game\n",
    "import numpy as np\n",
    "print(\"choose a number in your mind and i will predict\")\n",
    "x = int(input(\"set your initial\"))\n",
    "y = int(input(\"set your final\"))\n",
    "def computer(x,y):\n",
    "    global comp_p\n",
    "    comp_p= np.random.randint(x,y)\n",
    "    if user_r == \"Y\":\n",
    "        print(comp_p)\n",
    "        user_r1 = input(\"is my prediction right(Y/N\")\n",
    "        if user_r1 == \"Y\":\n",
    "            print(\"kudos to me\")\n",
    "        elif user_r1 == \"N\":\n",
    "            user_r2 = input(\"is it too high or too low (1/0)\")\n",
    "            if user_r2 == \"1\":\n",
    "                computer(x = x,y = comp_p)\n",
    "            elif user_r2 == \"0\":\n",
    "                computer(x = comp_p + 1,y = y)\n",
    "            else:\n",
    "                print(\"your response is not definite\")\n",
    "        else:\n",
    "            print(\"i need a clear response\")\n",
    "    elif user_r == \"N\":\n",
    "        print(\"what are you still waiting for?\")\n",
    "    else:\n",
    "        print(\"invalid response\")\n",
    "\n",
    "\n",
    "user_r = input(\"have you choosen(Y/N\")\n",
    "computer(x,y)\n",
    "    "
   ]
  },
  {
   "cell_type": "markdown",
   "id": "cac33081-29e2-4bf7-86af-abf194def0ab",
   "metadata": {},
   "source": [
    "MY UNIQUE AI BOTS"
   ]
  },
  {
   "cell_type": "code",
   "execution_count": null,
   "id": "302682bf-ac9e-47bf-90a0-a701059889fa",
   "metadata": {},
   "outputs": [
    {
     "name": "stderr",
     "output_type": "stream",
     "text": [
      "<>:18: SyntaxWarning: invalid escape sequence '\\s'\n",
      "<>:18: SyntaxWarning: invalid escape sequence '\\s'\n",
      "C:\\Users\\HP\\AppData\\Local\\Temp\\ipykernel_10504\\3366203099.py:18: SyntaxWarning: invalid escape sequence '\\s'\n",
      "  List = re.split(\"\\s\", response)\n"
     ]
    },
    {
     "name": "stdout",
     "output_type": "stream",
     "text": [
      "i am scramble your official word scatterer \n",
      "my job is to rearrange your sentence that even you wont recognise it...\n",
      "None\n"
     ]
    }
   ],
   "source": [
    "#Word scramble or prolific scatterer bot\n",
    "import numpy as np\n",
    "import warnings\n",
    "import re\n",
    "class Robot:\n",
    "    def __init__(self,name,personality):\n",
    "        self.name = name\n",
    "        self.personality = personality\n",
    "    def __str__(self):\n",
    "        return f\"{self.name} your official {self.personality}\"\n",
    "    def robot(self):\n",
    "        print(\"my job is to rearrange your sentence that even you wont recognise it...\")\n",
    "\n",
    "Robot1 = Robot(\"scramble\", \"word scatterer\")\n",
    "print(f\"i am {Robot1} \")\n",
    "print(Robot1.robot())\n",
    "response = input(\"give me job: \")\n",
    "List = re.split(\"\\s\", response)\n",
    "List2 = []\n",
    "set1  = set()\n",
    "x = 0\n",
    "y = len(List) - 1\n",
    "\n",
    "\n",
    "def loop():\n",
    "    change = str(np.random.randint(x,y))\n",
    "    for i in change:\n",
    "        i1 = int(i)\n",
    "        final = List[i1]\n",
    "        List2.append(final)\n",
    "        set1.update(List2)\n",
    "        if len(List2) < len(List):\n",
    "            loop()\n",
    "        else:\n",
    "            print(\"you dey para o\")\n",
    "\n",
    "\n",
    "\n",
    "loop()\n",
    "print(f\"........{' '.join(set1)}......\")\n",
    "print(\"thats my job\")\n",
    "\n"
   ]
  },
  {
   "cell_type": "code",
   "execution_count": null,
   "id": "dddb147a-a179-4b47-8635-010b5d3a0c8a",
   "metadata": {},
   "outputs": [],
   "source": []
  }
 ],
 "metadata": {
  "kernelspec": {
   "display_name": "Python 3 (ipykernel)",
   "language": "python",
   "name": "python3"
  },
  "language_info": {
   "codemirror_mode": {
    "name": "ipython",
    "version": 3
   },
   "file_extension": ".py",
   "mimetype": "text/x-python",
   "name": "python",
   "nbconvert_exporter": "python",
   "pygments_lexer": "ipython3",
   "version": "3.12.2"
  }
 },
 "nbformat": 4,
 "nbformat_minor": 5
}
